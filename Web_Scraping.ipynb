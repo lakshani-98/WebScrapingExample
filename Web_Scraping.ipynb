{
  "cells": [
    {
      "cell_type": "markdown",
      "metadata": {
        "id": "kkCtRyssKWLY"
      },
      "source": [
        "<h1><b>Data Extraction and Data Transformation</b> </h1>"
      ]
    },
    {
      "cell_type": "code",
      "execution_count": null,
      "metadata": {
        "id": "pEZxs95ZKQCG"
      },
      "outputs": [],
      "source": [
        "# Use 'pip' to install the 'beautifulsoup4' package\n",
        "# This package includes the 'bs4' library for web scraping with BeautifulSoup\n",
        "!pip install bs4"
      ]
    },
    {
      "cell_type": "code",
      "execution_count": null,
      "metadata": {
        "id": "NTM-zSAyKaBO"
      },
      "outputs": [],
      "source": [
        "# Use 'pip' to install the 'pandas' library\n",
        "# Pandas is a powerful data manipulation and analysis library in Python\n",
        "!pip install pandas"
      ]
    },
    {
      "cell_type": "code",
      "execution_count": null,
      "metadata": {
        "id": "xrZpz4CoKbkE"
      },
      "outputs": [],
      "source": [
        "# Use 'pip' to install the 'tabulate' library\n",
        "# Tabulate is used for formatting and displaying tabular data\n",
        "!pip install tabulate"
      ]
    },
    {
      "cell_type": "code",
      "execution_count": 4,
      "metadata": {
        "id": "6qxV4tpYKfKI"
      },
      "outputs": [],
      "source": [
        "# Import urllib.request for compatibility\n",
        "import urllib.request as urllib2\n",
        "\n",
        "# Import BeautifulSoup for parsing HTML content\n",
        "from bs4 import BeautifulSoup\n",
        "\n",
        "# Import the Tabulate function from the 'tabulate' library\n",
        "from tabulate import tabulate\n",
        "\n",
        "# Import the Pandas library for data manipulation and analysis\n",
        "import pandas as pd"
      ]
    },
    {
      "cell_type": "code",
      "execution_count": 6,
      "metadata": {
        "id": "2OwgJ6uKKg6k"
      },
      "outputs": [],
      "source": [
        "# Send an HTTP GET request to the URL\n",
        "# The 'response' object contains the web page's content that can be further processed\n",
        "response = urllib2.urlopen('https://www.rottentomatoes.com/browse/movies_at_home/')\n",
        "\n",
        "# Read the HTML content of the response\n",
        "html_doc = response.read()"
      ]
    },
    {
      "cell_type": "code",
      "execution_count": 7,
      "metadata": {
        "id": "oZwlMiCxKjGP"
      },
      "outputs": [],
      "source": [
        "# Create a BeautifulSoup object to parse the HTML content\n",
        "soup = BeautifulSoup(html_doc, 'html.parser')"
      ]
    },
    {
      "cell_type": "code",
      "execution_count": null,
      "metadata": {
        "id": "ZR4yGU3eKlL2"
      },
      "outputs": [],
      "source": [
        "# Format the parsed html file\n",
        "soup.prettify()"
      ]
    },
    {
      "cell_type": "code",
      "execution_count": 10,
      "metadata": {
        "id": "2apd5J9nKrn8"
      },
      "outputs": [],
      "source": [
        "# Initialize an empty list 'movie_data' to store information about movies\n",
        "movie_data = []\n",
        "\n",
        "# Loop through elements found in the HTML document with specific attributes:\n",
        "# The loop combines 'div' and 'a' elements with attributes \"data-track\" set to \"scores\" and \"data-qa\" set to \"discovery-media-list-item-caption\"\n",
        "# These attributes are used to identify elements containing movie-related information in the HTML document\n",
        "for movie in soup.find_all('div', attrs={\"data-track\": \"scores\", \"data-qa\": \"discovery-media-list-item-caption\"}) + soup.find_all('a', attrs={\"data-track\": \"scores\", \"data-qa\": \"discovery-media-list-item-caption\"}):\n",
        "\n",
        "    # For each movie:\n",
        "\n",
        "    # Extract the movie's name from the current 'movie' element in the HTML:\n",
        "    # - Locate a 'span' element within the 'movie' element with the attribute \"data-qa\" set to \"discovery-media-list-item-title\"\n",
        "    # - Retrieve the text content of the 'span' element using 'text'\n",
        "    # - Remove any leading or trailing whitespace using 'strip'\n",
        "    # - Assign the resulting movie name to the variable 'movie_name'\n",
        "    movie_name = movie.find('span', attrs={\"data-qa\": \"discovery-media-list-item-title\"}).text.strip()\n",
        "\n",
        "    # Extract the 'Audience Score' from the current 'movie' element in the HTML:\n",
        "    # - Search for an element named 'score-pairs' within the 'movie' element\n",
        "    # - Retrieve the value of the 'audiencescore' attribute from the 'score-pairs' element\n",
        "    # - Assign the extracted 'Audience Score' to the variable 'audience_score'\n",
        "    audience_score = movie.find('score-pairs').get('audiencescore')\n",
        "\n",
        "    # Extract the 'Tomatometer Rating' from the current 'movie' element in the HTML:\n",
        "    # - Search for an element named 'score-pairs' within the 'movie' element\n",
        "    # - Retrieve the value of the 'criticsscore' attribute from the 'score-pairs' element\n",
        "    # - Assign the extracted 'Tomatometer Rating' to the variable 'tomatometer'\n",
        "    tomatometer = movie.find('score-pairs').get('criticsscore')\n",
        "\n",
        "    # Append a dictionary representing movie information to the 'movie_data' list:\n",
        "    # - 'Movie Name': Store the extracted movie name obtained earlier\n",
        "    # - 'Audience Score': Use 'audience_score' if it's available; otherwise, use a hyphen ('-') as a placeholder\n",
        "    # - 'Tomatometer Rating': Use 'tomatometer' if it's available; otherwise, use a hyphen ('-') as a placeholder\n",
        "    movie_data.append({\n",
        "        'Movie Name': movie_name,\n",
        "        'Audience Score': audience_score or '-',\n",
        "        'Tomatometer Rating': tomatometer or '-'\n",
        "    })"
      ]
    },
    {
      "cell_type": "code",
      "execution_count": null,
      "metadata": {
        "colab": {
          "base_uri": "https://localhost:8080/"
        },
        "id": "H1dXxxFaKtza",
        "outputId": "07ed524b-b0f2-41f6-e154-4468ed0f0130"
      },
      "outputs": [],
      "source": [
        "movie_data"
      ]
    },
    {
      "cell_type": "markdown",
      "metadata": {
        "id": "HlV4hxZ5KnQJ"
      },
      "source": [
        "<h1><b>Data Presentation</b> </h1>"
      ]
    },
    {
      "cell_type": "code",
      "execution_count": 14,
      "metadata": {
        "id": "3AqFwrBdKxyU"
      },
      "outputs": [],
      "source": [
        "# Create a DataFrame 'movie_df' from the 'movie_data' list:\n",
        "# 'pd.DataFrame()' is a function from the 'pandas' library used to create a tabular data structure\n",
        "movie_df = pd.DataFrame(movie_data)"
      ]
    },
    {
      "cell_type": "code",
      "execution_count": 17,
      "metadata": {
        "id": "WMWsmwdzKzph"
      },
      "outputs": [],
      "source": [
        "# Create a formatted table 'movie_data_table' from the DataFrame 'movie_df':\n",
        "# - 'tabulate' is a function from the 'tabulate' library used to format and display tabular data\n",
        "# - 'movie_df' is the DataFrame containing movie information\n",
        "# - 'headers='keys'' specifies that the column headers should be based on the DataFrame keys (column names)\n",
        "# - 'tablefmt='fancy_grid'' selects a formatting style for the table, in this case, a fancy grid style\n",
        "# - 'showindex=False' ensures that the DataFrame's index is not displayed as a separate column in the table\n",
        "# - 'colalign=(\"left\", \"right\", \"right\")' specifies the column alignment, with the first column left-aligned\n",
        "#   and the remaining two columns right-aligned\n",
        "movie_data_table = tabulate(movie_df, headers='keys', tablefmt='fancy_grid', showindex=False, colalign=(\"left\",\"right\", \"right\"))"
      ]
    },
    {
      "cell_type": "code",
      "execution_count": null,
      "metadata": {
        "colab": {
          "base_uri": "https://localhost:8080/"
        },
        "id": "2y1ultaGK1vQ",
        "outputId": "bce62266-e82d-4875-f04e-0ca57f62520a"
      },
      "outputs": [],
      "source": [
        "# Print the 'movie_data_table':\n",
        "# This step is the final part of the code's logic, allowing the user to see the organized movie data\n",
        "print(movie_data_table)"
      ]
    }
  ],
  "metadata": {
    "colab": {
      "provenance": []
    },
    "kernelspec": {
      "display_name": "Python 3",
      "name": "python3"
    },
    "language_info": {
      "name": "python"
    }
  },
  "nbformat": 4,
  "nbformat_minor": 0
}
